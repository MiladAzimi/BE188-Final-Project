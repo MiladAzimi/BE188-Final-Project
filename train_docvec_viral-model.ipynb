{
 "cells": [
  {
   "cell_type": "code",
   "execution_count": 1,
   "metadata": {},
   "outputs": [],
   "source": [
    "import multiprocessing\n",
    "import os\n",
    "import pickle\n",
    "import random\n",
    "\n",
    "import warnings#not in original code but required to bypass gensim's 'aliasing chunkize to chunkize_serial' for windows os\n",
    "warnings.filterwarnings(action='ignore', category=UserWarning, module='gensim')\n",
    "import gensim\n",
    "import numpy as np\n",
    "import pandas as pd\n",
    "from gensim.models.doc2vec import Doc2Vec, TaggedDocument\n",
    "\n",
    "from embeddings_reproduction import embedding_tools"
   ]
  },
  {
   "cell_type": "code",
   "execution_count": 2,
   "metadata": {},
   "outputs": [],
   "source": [
    "sequence_dict = {}\n",
    "sequence_dict['viralSequence'] = pd.read_csv('viralSequence.txt')"
   ]
  },
  {
   "cell_type": "code",
   "execution_count": 3,
   "metadata": {},
   "outputs": [],
   "source": [
    "def train(X, k, window):\n",
    "    name_list = [X, str(k), str(window)]\n",
    "    if os.path.isfile('../docvec_models/' + '_'.join(name_list) + '.pkl'):\n",
    "        return\n",
    "    print('X\\t\\tk\\twindow')\n",
    "    print(name_list[0] + '\\t\\t' + '\\t'.join(name_list[1:]))\n",
    "    kmer_hypers = {'k':k, \n",
    "                   'overlap':False,\n",
    "                   'merge':False}\n",
    "    model_hypers = {'vector_size':64,#'size': 64, The parameter `size` is deprecated, will be removed in 4.0.0, use `vector_size` instead\n",
    "                    'min_count': 0,\n",
    "                    'epochs':10, #'iter': 25, The parameter `iter` is deprecated, will be removed in 4.0.0, use `epochs` instead\n",
    "                    'window':window,\n",
    "                    'workers': 4}\n",
    "    documents = embedding_tools.Corpus(sequence_dict[X], kmer_hypers)\n",
    "    model = Doc2Vec(**model_hypers)\n",
    "    model.build_vocab(documents)\n",
    "    model.train(documents,epochs=model.iter,total_examples=model.corpus_count)\n",
    "    model.save('docvec_models/' + '_'.join(name_list) + '.pkl')"
   ]
  },
  {
   "cell_type": "code",
   "execution_count": 4,
   "metadata": {},
   "outputs": [
    {
     "name": "stdout",
     "output_type": "stream",
     "text": [
      "dict_keys(['viralSequence'])\n"
     ]
    }
   ],
   "source": [
    "print(sequence_dict.keys())"
   ]
  },
  {
   "cell_type": "code",
   "execution_count": 18,
   "metadata": {},
   "outputs": [
    {
     "name": "stdout",
     "output_type": "stream",
     "text": [
      "X\t\tk\twindow\n",
      "viralSequence\t\t1\t1\n"
     ]
    },
    {
     "name": "stderr",
     "output_type": "stream",
     "text": [
      "C:\\Users\\liqui\\Anaconda3\\lib\\site-packages\\ipykernel_launcher.py:18: DeprecationWarning: Call to deprecated `iter` (Attribute will be removed in 4.0.0, use self.epochs instead).\n"
     ]
    },
    {
     "name": "stdout",
     "output_type": "stream",
     "text": [
      "X\t\tk\twindow\n",
      "viralSequence\t\t1\t2\n",
      "X\t\tk\twindow\n",
      "viralSequence\t\t1\t3\n",
      "X\t\tk\twindow\n",
      "viralSequence\t\t1\t4\n",
      "X\t\tk\twindow\n",
      "viralSequence\t\t1\t5\n",
      "X\t\tk\twindow\n",
      "viralSequence\t\t1\t6\n",
      "X\t\tk\twindow\n",
      "viralSequence\t\t1\t7\n",
      "X\t\tk\twindow\n",
      "viralSequence\t\t2\t1\n",
      "X\t\tk\twindow\n",
      "viralSequence\t\t2\t2\n",
      "X\t\tk\twindow\n",
      "viralSequence\t\t2\t3\n",
      "X\t\tk\twindow\n",
      "viralSequence\t\t2\t4\n",
      "X\t\tk\twindow\n",
      "viralSequence\t\t2\t5\n",
      "X\t\tk\twindow\n",
      "viralSequence\t\t2\t6\n",
      "X\t\tk\twindow\n",
      "viralSequence\t\t2\t7\n",
      "X\t\tk\twindow\n",
      "viralSequence\t\t3\t1\n",
      "X\t\tk\twindow\n",
      "viralSequence\t\t3\t2\n",
      "X\t\tk\twindow\n",
      "viralSequence\t\t3\t3\n",
      "X\t\tk\twindow\n",
      "viralSequence\t\t3\t4\n",
      "X\t\tk\twindow\n",
      "viralSequence\t\t3\t5\n",
      "X\t\tk\twindow\n",
      "viralSequence\t\t3\t6\n",
      "X\t\tk\twindow\n",
      "viralSequence\t\t3\t7\n",
      "X\t\tk\twindow\n",
      "viralSequence\t\t4\t1\n",
      "X\t\tk\twindow\n",
      "viralSequence\t\t4\t2\n",
      "X\t\tk\twindow\n",
      "viralSequence\t\t4\t3\n",
      "X\t\tk\twindow\n",
      "viralSequence\t\t4\t4\n",
      "X\t\tk\twindow\n",
      "viralSequence\t\t4\t5\n",
      "X\t\tk\twindow\n",
      "viralSequence\t\t4\t6\n",
      "X\t\tk\twindow\n",
      "viralSequence\t\t4\t7\n",
      "X\t\tk\twindow\n",
      "viralSequence\t\t5\t1\n",
      "X\t\tk\twindow\n",
      "viralSequence\t\t5\t2\n",
      "X\t\tk\twindow\n",
      "viralSequence\t\t5\t3\n",
      "X\t\tk\twindow\n",
      "viralSequence\t\t5\t4\n",
      "X\t\tk\twindow\n",
      "viralSequence\t\t5\t5\n",
      "X\t\tk\twindow\n",
      "viralSequence\t\t5\t6\n",
      "X\t\tk\twindow\n",
      "viralSequence\t\t5\t7\n"
     ]
    }
   ],
   "source": [
    "for X in sequence_dict.keys():\n",
    "    for k in range(1, 6):\n",
    "        for window in range(1, 8):\n",
    "            train(X, k, window)"
   ]
  },
  {
   "cell_type": "code",
   "execution_count": null,
   "metadata": {},
   "outputs": [],
   "source": []
  }
 ],
 "metadata": {
  "kernelspec": {
   "display_name": "Python 3",
   "language": "python",
   "name": "python3"
  },
  "language_info": {
   "codemirror_mode": {
    "name": "ipython",
    "version": 3
   },
   "file_extension": ".py",
   "mimetype": "text/x-python",
   "name": "python",
   "nbconvert_exporter": "python",
   "pygments_lexer": "ipython3",
   "version": "3.7.1"
  }
 },
 "nbformat": 4,
 "nbformat_minor": 2
}
