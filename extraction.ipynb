{
 "cells": [
  {
   "cell_type": "code",
   "execution_count": 5,
   "metadata": {},
   "outputs": [],
   "source": [
    "import xml.etree.ElementTree as ET"
   ]
  },
  {
   "cell_type": "code",
   "execution_count": 6,
   "metadata": {},
   "outputs": [],
   "source": [
    "file = open('Viruses.xml')\n",
    "tree = ET.parse('Viruses.xml')#save an Element Tree instance of the xml to memory\n",
    "root = tree.getroot()#find the root element\n"
   ]
  },
  {
   "cell_type": "markdown",
   "metadata": {},
   "source": [
    "Extracting the a.a. sequence from the xml file corresponding to Uniprot viral data"
   ]
  },
  {
   "cell_type": "code",
   "execution_count": 9,
   "metadata": {},
   "outputs": [],
   "source": [
    "VirionSequence = open('ViralSequencel.txt','a')#open the text file\n",
    "for element in root.iter():\n",
    "    if element.tag == '{http://uniprot.org/uniprot}sequence':\n",
    "        if element.text is not None:\n",
    "            seq = element.text\n",
    "            VirionSequence.write(seq)\n",
    "VirionSequence.close()"
   ]
  },
  {
   "cell_type": "markdown",
   "metadata": {},
   "source": [
    "Writing the sequences in a text file"
   ]
  },
  {
   "cell_type": "code",
   "execution_count": 14,
   "metadata": {},
   "outputs": [],
   "source": [
    "with open('ViralSequencel.txt','rt') as file:\n",
    "    new = open('lineSequence.txt','a')\n",
    "    for line in file:\n",
    "        if line in ['\\n', '\\r\\n']:#find black lines that seperate the different enteries\n",
    "            new.write('\\n\\n')#add blank line to seperate the sequence enteries \n",
    "        else:\n",
    "            new.write(''.join([line.rstrip('\\n')]))#add the sequence segments for each entery to get one continuous line      \n",
    "new.close()"
   ]
  }
 ],
 "metadata": {
  "kernelspec": {
   "display_name": "Python 3",
   "language": "python",
   "name": "python3"
  },
  "language_info": {
   "codemirror_mode": {
    "name": "ipython",
    "version": 3
   },
   "file_extension": ".py",
   "mimetype": "text/x-python",
   "name": "python",
   "nbconvert_exporter": "python",
   "pygments_lexer": "ipython3",
   "version": "3.6.8"
  }
 },
 "nbformat": 4,
 "nbformat_minor": 2
}
