{
 "cells": [
  {
   "cell_type": "code",
   "execution_count": 1,
   "metadata": {},
   "outputs": [],
   "source": [
    "import os\n",
    "import pickle\n",
    "import warnings\n",
    "warnings.filterwarnings(action='ignore', category=UserWarning, module='gensim')\n",
    "import gensim\n",
    "import numpy as np\n",
    "import pandas as pd\n",
    "from gensim.models.doc2vec import Doc2Vec\n",
    "\n",
    "from embeddings_reproduction import embedding_tools"
   ]
  },
  {
   "cell_type": "code",
   "execution_count": 2,
   "metadata": {},
   "outputs": [],
   "source": [
    "def infer_vectors(data, model, k, dest_file, overlap=False, method=None):\n",
    "    df = pd.read_csv(data)\n",
    "    seqs = embedding_tools.get_seqs(df)\n",
    "    if method is not None:\n",
    "        seqs = embedding_tools.randomize_seqs(seqs, method=method)\n",
    "    embeds = embedding_tools.get_embeddings_new(model, seqs, k=k,\n",
    "                                                overlap=overlap)\n",
    "    embeds = pd.DataFrame(embeds, index=df.index)\n",
    "    terms = list(range(embeds.shape[1]))\n",
    "    name = model.split('/')[-1]\n",
    "    with open(dest_file + 'X_' + name, 'wb') as f:\n",
    "        pickle.dump((embeds, terms), f)"
   ]
  },
  {
   "cell_type": "code",
   "execution_count": 3,
   "metadata": {},
   "outputs": [],
   "source": [
    "models = os.listdir('docvec_models/')\n",
    "models = [m for m in models if m[-3:] == 'pkl']"
   ]
  },
  {
   "cell_type": "code",
   "execution_count": 4,
   "metadata": {},
   "outputs": [],
   "source": [
    "datasets = ['viralSequence']"
   ]
  },
  {
   "cell_type": "code",
   "execution_count": 5,
   "metadata": {},
   "outputs": [
    {
     "name": "stdout",
     "output_type": "stream",
     "text": [
      "['viralSequence']\n"
     ]
    }
   ],
   "source": [
    "print(datasets)"
   ]
  },
  {
   "cell_type": "code",
   "execution_count": null,
   "metadata": {},
   "outputs": [
    {
     "name": "stdout",
     "output_type": "stream",
     "text": [
      "Model viralSequence_2_1.pkl for dataset viralSequence:\n",
      "Inferring...\n",
      "Model viralSequence_2_2.pkl for dataset viralSequence:\n",
      "Inferring...\n",
      "Model viralSequence_2_3.pkl for dataset viralSequence:\n",
      "Inferring...\n",
      "Model viralSequence_2_4.pkl for dataset viralSequence:\n",
      "Inferring...\n",
      "Model viralSequence_2_5.pkl for dataset viralSequence:\n",
      "Inferring...\n",
      "Model viralSequence_2_6.pkl for dataset viralSequence:\n",
      "Inferring...\n",
      "Model viralSequence_2_7.pkl for dataset viralSequence:\n",
      "Inferring...\n",
      "Model viralSequence_3_1.pkl for dataset viralSequence:\n",
      "Inferring...\n",
      "Model viralSequence_3_2.pkl for dataset viralSequence:\n",
      "Inferring...\n",
      "Model viralSequence_3_3.pkl for dataset viralSequence:\n",
      "Inferring...\n",
      "Model viralSequence_3_4.pkl for dataset viralSequence:\n",
      "Inferring...\n",
      "Model viralSequence_3_5.pkl for dataset viralSequence:\n",
      "Inferring...\n",
      "Model viralSequence_3_6.pkl for dataset viralSequence:\n",
      "Inferring...\n",
      "Model viralSequence_3_7.pkl for dataset viralSequence:\n",
      "Inferring...\n",
      "Model viralSequence_4_1.pkl for dataset viralSequence:\n",
      "Inferring...\n",
      "Model viralSequence_4_2.pkl for dataset viralSequence:\n",
      "Inferring...\n",
      "Model viralSequence_4_3.pkl for dataset viralSequence:\n",
      "Inferring...\n",
      "Model viralSequence_4_4.pkl for dataset viralSequence:\n",
      "Inferring...\n",
      "Model viralSequence_4_5.pkl for dataset viralSequence:\n",
      "Inferring...\n",
      "Model viralSequence_4_6.pkl for dataset viralSequence:\n",
      "Inferring...\n",
      "Model viralSequence_4_7.pkl for dataset viralSequence:\n",
      "Inferring...\n",
      "Model viralSequence_5_1.pkl for dataset viralSequence:\n",
      "Inferring...\n",
      "Model viralSequence_5_2.pkl for dataset viralSequence:\n",
      "Inferring...\n"
     ]
    }
   ],
   "source": [
    "for s in datasets:\n",
    "    dest = 'outputs/' + s + '_embeddings/'\n",
    "    Xs = os.listdir('/'.join(s.split('/')[:-1]) + dest)\n",
    "    for model in models:\n",
    "        if 'X_' + model in Xs:\n",
    "            continue\n",
    "        print('Model ' + model + ' for dataset ' + s + ':')\n",
    "        k = int(model[-7])\n",
    "        print('Inferring...')\n",
    "        infer_vectors(s + '.txt', 'docvec_models/' + model, k, dest)"
   ]
  },
  {
   "cell_type": "code",
   "execution_count": null,
   "metadata": {},
   "outputs": [],
   "source": []
  }
 ],
 "metadata": {
  "kernelspec": {
   "display_name": "Python 3",
   "language": "python",
   "name": "python3"
  },
  "language_info": {
   "codemirror_mode": {
    "name": "ipython",
    "version": 3
   },
   "file_extension": ".py",
   "mimetype": "text/x-python",
   "name": "python",
   "nbconvert_exporter": "python",
   "pygments_lexer": "ipython3",
   "version": "3.7.1"
  }
 },
 "nbformat": 4,
 "nbformat_minor": 2
}
